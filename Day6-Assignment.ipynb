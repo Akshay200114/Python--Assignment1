{
 "cells": [
  {
   "cell_type": "markdown",
   "metadata": {},
   "source": [
    "# Q1.CONVERT LIST INTO DICTIONARY IN ONELINE WITHOUT USING ZIP METHOD."
   ]
  },
  {
   "cell_type": "code",
   "execution_count": 16,
   "metadata": {},
   "outputs": [
    {
     "name": "stdout",
     "output_type": "stream",
     "text": [
      "The Dictionary Created by Two Lists is: {1: 'a', 2: 'b', 3: 'c', 4: 'd', 5: 'e'}\n"
     ]
    }
   ],
   "source": [
    "L1=[1,2,3,4,5,7,8]\n",
    "L2=[\"a\",\"b\",\"c\",\"d\",\"e\"]\n",
    "print(\"The Dictionary Created by Two Lists is:\",{L1[i]:L2[i] for i in range(len(L2))})"
   ]
  },
  {
   "cell_type": "markdown",
   "metadata": {},
   "source": [
    "# Solved to Access each an every element of List1. Not by List comprehension."
   ]
  },
  {
   "cell_type": "code",
   "execution_count": 34,
   "metadata": {},
   "outputs": [
    {
     "name": "stdout",
     "output_type": "stream",
     "text": [
      "The Dictionary Created by Two Lists is: {1: 'a', 2: 'b', 3: 'c', 4: 'd', 5: 'e', 7: 'e', 8: 'e'}\n"
     ]
    }
   ],
   "source": [
    "List1=[1,2,3,4,5,7,8]\n",
    "List2=[\"a\",\"b\",\"c\",\"d\",\"e\"]\n",
    "k=0\n",
    "d={}\n",
    "for i in range(len(List1)):\n",
    "    if i==len(L2) or i==len(L2)+k:\n",
    "        d[List1[i]]=List2[len(List2)-1]\n",
    "        k+=1\n",
    "    else:\n",
    "        d[List1[i]]=List2[i]\n",
    "print(\"The Dictionary Created by Two Lists is:\",d)"
   ]
  }
 ],
 "metadata": {
  "kernelspec": {
   "display_name": "Python 3",
   "language": "python",
   "name": "python3"
  },
  "language_info": {
   "codemirror_mode": {
    "name": "ipython",
    "version": 3
   },
   "file_extension": ".py",
   "mimetype": "text/x-python",
   "name": "python",
   "nbconvert_exporter": "python",
   "pygments_lexer": "ipython3",
   "version": "3.7.6"
  }
 },
 "nbformat": 4,
 "nbformat_minor": 4
}
